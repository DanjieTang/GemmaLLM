{
 "cells": [
  {
   "cell_type": "code",
   "execution_count": 1,
   "id": "6871e098-fa77-4146-b2f7-f30f9cc97d56",
   "metadata": {},
   "outputs": [],
   "source": [
    "import torch"
   ]
  },
  {
   "cell_type": "code",
   "execution_count": 2,
   "id": "96f22954-8df7-4361-9c18-e282bf7fac58",
   "metadata": {},
   "outputs": [],
   "source": [
    "tensor = torch.load(\"llama2_wiki_64.pt\")\n",
    "pad_token_id = 32000"
   ]
  },
  {
   "cell_type": "code",
   "execution_count": 3,
   "id": "0d8c4f16-3be1-4f0e-bc26-c1556262abb1",
   "metadata": {},
   "outputs": [],
   "source": [
    "lengths = (tensor != pad_token_id).sum(dim=1)\n",
    "sorted_lengths, sorted_indices = torch.sort(lengths)\n",
    "sorted_tensor = tensor[sorted_indices]"
   ]
  },
  {
   "cell_type": "code",
   "execution_count": 4,
   "id": "0f72019f-5e97-4fe6-8711-525760c5948a",
   "metadata": {},
   "outputs": [],
   "source": [
    "torch.save(sorted_tensor, \"llama2_wiki_64_ranked.pt\")"
   ]
  },
  {
   "cell_type": "code",
   "execution_count": 14,
   "id": "5b367765-c483-4132-af9b-de83b9ae5b51",
   "metadata": {},
   "outputs": [
    {
     "data": {
      "text/plain": [
       "tensor([    1,   376,  1576,   323,   456, 15933, 13899, 29891, 10606, 15220,\n",
       "         1490,   515, 11571, 29879, 29915, 19674, 29879,  1152,  4523, 29879,\n",
       "         8010, 29892,   263, 24771,   411,  1570, 26884, 22186, 21190,  3172,\n",
       "         2546, 29884, 29892,   607,  9213, 12462,  4822,  1570, 26884,  7150,\n",
       "        11029, 23643,  1016,   630,   491, 11571, 29879, 22345,  1213,    13,\n",
       "            2, 32000, 32000, 32000, 32000, 32000, 32000, 32000, 32000, 32000,\n",
       "        32000, 32000, 32000, 32000], dtype=torch.int16)"
      ]
     },
     "execution_count": 14,
     "metadata": {},
     "output_type": "execute_result"
    }
   ],
   "source": [
    "sorted_tensor[50000000]"
   ]
  }
 ],
 "metadata": {
  "kernelspec": {
   "display_name": "Python 3 (ipykernel)",
   "language": "python",
   "name": "python3"
  },
  "language_info": {
   "codemirror_mode": {
    "name": "ipython",
    "version": 3
   },
   "file_extension": ".py",
   "mimetype": "text/x-python",
   "name": "python",
   "nbconvert_exporter": "python",
   "pygments_lexer": "ipython3",
   "version": "3.13.6"
  }
 },
 "nbformat": 4,
 "nbformat_minor": 5
}
