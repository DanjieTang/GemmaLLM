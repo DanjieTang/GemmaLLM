{
 "cells": [
  {
   "cell_type": "code",
   "execution_count": 1,
   "id": "6871e098-fa77-4146-b2f7-f30f9cc97d56",
   "metadata": {},
   "outputs": [],
   "source": [
    "import torch"
   ]
  },
  {
   "cell_type": "code",
   "execution_count": 2,
   "id": "96f22954-8df7-4361-9c18-e282bf7fac58",
   "metadata": {},
   "outputs": [],
   "source": [
    "tensor = torch.load(\"llama3_wiki_64.pt\")\n",
    "pad_token_id = 128002"
   ]
  },
  {
   "cell_type": "code",
   "execution_count": 3,
   "id": "0d8c4f16-3be1-4f0e-bc26-c1556262abb1",
   "metadata": {},
   "outputs": [],
   "source": [
    "lengths = (tensor != pad_token_id).sum(dim=1)\n",
    "sorted_lengths, sorted_indices = torch.sort(lengths)\n",
    "sorted_tensor = tensor[sorted_indices]"
   ]
  },
  {
   "cell_type": "code",
   "execution_count": 4,
   "id": "0f72019f-5e97-4fe6-8711-525760c5948a",
   "metadata": {},
   "outputs": [],
   "source": [
    "torch.save(sorted_tensor, \"llama3_wiki_64_ranked.pt\")"
   ]
  }
 ],
 "metadata": {
  "kernelspec": {
   "display_name": "Python 3 (ipykernel)",
   "language": "python",
   "name": "python3"
  },
  "language_info": {
   "codemirror_mode": {
    "name": "ipython",
    "version": 3
   },
   "file_extension": ".py",
   "mimetype": "text/x-python",
   "name": "python",
   "nbconvert_exporter": "python",
   "pygments_lexer": "ipython3",
   "version": "3.9.7"
  }
 },
 "nbformat": 4,
 "nbformat_minor": 5
}
